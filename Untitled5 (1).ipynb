{
 "cells": [
  {
   "cell_type": "code",
   "execution_count": 1,
   "metadata": {
    "editable": true
   },
   "outputs": [
    {
     "data": {
      "text/plain": [
       "'C:\\\\spark\\\\spark3'"
      ]
     },
     "execution_count": 1,
     "metadata": {},
     "output_type": "execute_result"
    }
   ],
   "source": [
    "import findspark\n",
    "findspark.init()\n",
    "findspark.find()"
   ]
  },
  {
   "cell_type": "code",
   "execution_count": 1,
   "metadata": {
    "editable": true
   },
   "outputs": [],
   "source": [
    "from datetime import datetime\n",
    "import os\n",
    "from pyspark.sql import SparkSession\n",
    "from pyspark.sql.functions import udf, col\n",
    "from pyspark.sql.functions import year, month, dayofmonth, hour, weekofyear, date_format"
   ]
  },
  {
   "cell_type": "code",
   "execution_count": 2,
   "metadata": {
    "editable": true
   },
   "outputs": [],
   "source": [
    "from pyspark.sql.functions import when\n",
    "from pyspark.sql.functions import col,lit"
   ]
  },
  {
   "cell_type": "code",
   "execution_count": 3,
   "metadata": {
    "editable": true
   },
   "outputs": [],
   "source": [
    "from pyspark.sql.types import StructType,StructField,StringType,LongType,IntegerType"
   ]
  },
  {
   "cell_type": "code",
   "execution_count": 4,
   "metadata": {
    "editable": true
   },
   "outputs": [],
   "source": [
    " spark = SparkSession \\\n",
    "        .builder \\\n",
    "        .config(\"spark.jars.packages\", \"org.apache.hadoop:hadoop-aws:2.7.0\") \\\n",
    "        .getOrCreate()"
   ]
  },
  {
   "cell_type": "code",
   "execution_count": 5,
   "metadata": {
    "editable": true
   },
   "outputs": [],
   "source": [
    "df = spark.read.csv(r\"bank.csv\",header = True,inferSchema = True)"
   ]
  },
  {
   "cell_type": "code",
   "execution_count": 6,
   "metadata": {
    "editable": true
   },
   "outputs": [
    {
     "name": "stdout",
     "output_type": "stream",
     "text": [
      "+----------+---------+--------------------+------+----------+------------+------------+------------+-------+\n",
      "|Account_No|     DATE|       TRANS_DETAILS|CHQ_NO|VALUE_DATE|WITHDRAW_AMT| DEPOSIT_AMT| BALANCE_AMT|Tras_id|\n",
      "+----------+---------+--------------------+------+----------+------------+------------+------------+-------+\n",
      "|4998365300|29-Jun-17|TRF FROM  Indiafo...|  null| 29-Jun-17|        null|10,00,000.00|10,00,000.00|      1|\n",
      "|4998365301|05-Jul-17|TRF FROM  Indiafo...|  null| 05-Jul-17|        null|10,00,000.00|20,00,000.00|      2|\n",
      "|4998365302|18-Jul-17|FDRL/INTERNAL FUN...|  null| 18-Jul-17|        null| 5,00,000.00|25,00,000.00|      3|\n",
      "|4998365303|01-Aug-17|TRF FRM  Indiafor...|  null| 01-Aug-17|        null|30,00,000.00|55,00,000.00|      4|\n",
      "|4998365304|16-Aug-17|FDRL/INTERNAL FUN...|  null| 16-Aug-17|        null| 5,00,000.00|60,00,000.00|      5|\n",
      "+----------+---------+--------------------+------+----------+------------+------------+------------+-------+\n",
      "only showing top 5 rows\n",
      "\n"
     ]
    }
   ],
   "source": [
    "df.show(5)"
   ]
  },
  {
   "cell_type": "code",
   "execution_count": 7,
   "metadata": {
    "editable": true
   },
   "outputs": [],
   "source": [
    "df1 = df.na.fill(\"\")"
   ]
  },
  {
   "cell_type": "code",
   "execution_count": 8,
   "metadata": {
    "editable": true
   },
   "outputs": [
    {
     "name": "stdout",
     "output_type": "stream",
     "text": [
      "+----------+---------+--------------------+------+----------+------------+------------+------------+-------+\n",
      "|Account_No|     DATE|       TRANS_DETAILS|CHQ_NO|VALUE_DATE|WITHDRAW_AMT| DEPOSIT_AMT| BALANCE_AMT|Tras_id|\n",
      "+----------+---------+--------------------+------+----------+------------+------------+------------+-------+\n",
      "|4998365300|29-Jun-17|TRF FROM  Indiafo...|  null| 29-Jun-17|            |10,00,000.00|10,00,000.00|      1|\n",
      "|4998365301|05-Jul-17|TRF FROM  Indiafo...|  null| 05-Jul-17|            |10,00,000.00|20,00,000.00|      2|\n",
      "|4998365302|18-Jul-17|FDRL/INTERNAL FUN...|  null| 18-Jul-17|            | 5,00,000.00|25,00,000.00|      3|\n",
      "|4998365303|01-Aug-17|TRF FRM  Indiafor...|  null| 01-Aug-17|            |30,00,000.00|55,00,000.00|      4|\n",
      "|4998365304|16-Aug-17|FDRL/INTERNAL FUN...|  null| 16-Aug-17|            | 5,00,000.00|60,00,000.00|      5|\n",
      "|4998365305|16-Aug-17|FDRL/INTERNAL FUN...|  null| 16-Aug-17|            | 5,00,000.00|65,00,000.00|      6|\n",
      "|4998365306|16-Aug-17|FDRL/INTERNAL FUN...|  null| 16-Aug-17|            | 5,00,000.00|70,00,000.00|      7|\n",
      "|4998365307|16-Aug-17|FDRL/INTERNAL FUN...|  null| 16-Aug-17|            | 5,00,000.00|75,00,000.00|      8|\n",
      "|4998365308|16-Aug-17|FDRL/INTERNAL FUN...|  null| 16-Aug-17|            | 5,00,000.00|80,00,000.00|      9|\n",
      "|4998365309|16-Aug-17|FDRL/INTERNAL FUN...|  null| 16-Aug-17|            | 5,00,000.00|85,00,000.00|     10|\n",
      "|4998365310|16-Aug-17|INDO GIBL Indiafo...|  null| 16-Aug-17| 1,33,900.00|            |83,66,100.00|     11|\n",
      "|4998365311|16-Aug-17|INDO GIBL Indiafo...|  null| 16-Aug-17|   18,000.00|            |83,48,100.00|     12|\n",
      "|4998365312|16-Aug-17|INDO GIBL Indiafo...|  null| 16-Aug-17|    5,000.00|            |83,43,100.00|     13|\n",
      "|4998365313|16-Aug-17|INDO GIBL Indiafo...|  null| 16-Aug-17| 1,95,800.00|            |81,47,300.00|     14|\n",
      "|4998365314|16-Aug-17|INDO GIBL Indiafo...|  null| 16-Aug-17|   81,600.00|            |80,65,700.00|     15|\n",
      "|4998365315|16-Aug-17|INDO GIBL Indiafo...|  null| 16-Aug-17|   41,800.00|            |80,23,900.00|     16|\n",
      "|4998365316|16-Aug-17|INDO GIBL Indiafo...|  null| 16-Aug-17|   98,500.00|            |79,25,400.00|     17|\n",
      "|4998365317|16-Aug-17|INDO GIBL Indiafo...|  null| 16-Aug-17| 1,43,800.00|            |77,81,600.00|     18|\n",
      "|4998365318|16-Aug-17|INDO GIBL Indiafo...|  null| 16-Aug-17| 3,31,650.00|            |74,49,950.00|     19|\n",
      "|4998365319|16-Aug-17|INDO GIBL Indiafo...|  null| 16-Aug-17| 1,29,000.00|            |73,20,950.00|     20|\n",
      "+----------+---------+--------------------+------+----------+------------+------------+------------+-------+\n",
      "only showing top 20 rows\n",
      "\n"
     ]
    }
   ],
   "source": [
    "df1.show()"
   ]
  },
  {
   "cell_type": "code",
   "execution_count": 9,
   "metadata": {
    "editable": true
   },
   "outputs": [],
   "source": [
    "Bank_log_details = df1.select(\"Account_No\",\n",
    "                              \"DATE\",\n",
    "                              \"TRANS_DETAILS\",\n",
    "                              \"CHQ_NO\",\n",
    "                              \"VALUE_DATE\",\n",
    "                              \"WITHDRAW_AMT\",\n",
    "                              \"DEPOSIT_AMT\",\n",
    "                              \"BALANCE_AMT\",\n",
    "                              \"Tras_id\").drop_duplicates()"
   ]
  },
  {
   "cell_type": "code",
   "execution_count": 10,
   "metadata": {
    "editable": true
   },
   "outputs": [],
   "source": [
    "Bank_log_details = Bank_log_details.withColumn(\"Action\", \\\n",
    "   when((Bank_log_details.WITHDRAW_AMT !=\"\"), lit(\"Withdraw\"))\\\n",
    "     .otherwise(lit(\"Deposit\")))"
   ]
  },
  {
   "cell_type": "code",
   "execution_count": 11,
   "metadata": {
    "editable": true
   },
   "outputs": [
    {
     "name": "stdout",
     "output_type": "stream",
     "text": [
      "+----------+---------+--------------------+------+----------+------------+------------+----------------+-------+--------+\n",
      "|Account_No|     DATE|       TRANS_DETAILS|CHQ_NO|VALUE_DATE|WITHDRAW_AMT| DEPOSIT_AMT|     BALANCE_AMT|Tras_id|  Action|\n",
      "+----------+---------+--------------------+------+----------+------------+------------+----------------+-------+--------+\n",
      "|4998365327|16-Aug-17|INDO GIBL Indiafo...|  null| 16-Aug-17|   78,100.00|            |    62,01,467.00|     28|Withdraw|\n",
      "|4998365561|07-Feb-18|INDO GIBL Indiafo...|  null| 07-Feb-18|   61,500.00|            |    14,35,695.00|    262|Withdraw|\n",
      "|4998366033|29-Sep-18|Indfor INCOME IND...|  null| 29-Sep-18|    1,920.00|            |    10,28,562.00|    734|Withdraw|\n",
      "|4998366937|01-Mar-18|FDRL/INTERNAL FUN...|  null| 01-Mar-18|            | 3,00,000.00|    11,04,941.41|   1638| Deposit|\n",
      "|4998366986|09-Apr-18|FDRL/INTERNAL FUN...|  null| 09-Apr-18|            | 3,00,000.00|     8,80,613.78|   1687| Deposit|\n",
      "|4998367070|05-Jun-18|    BBPS DT 05062018|  null| 05-Jun-18|   78,982.56|            |     8,81,446.90|   1771|Withdraw|\n",
      "|4998367242|02-Nov-18|    BBPS DT 02112018|  null| 02-Nov-18|            | 3,55,637.06|    14,92,201.77|   1943| Deposit|\n",
      "|4998367549|30-Jul-16|NEFT/SBIN11621243...|  null| 30-Jul-16|            |    5,000.00|     6,47,578.60|   2250| Deposit|\n",
      "|4998367676|26-Sep-16|NEFT/SBIN11627014...|  null| 26-Sep-16|            |    1,000.00|    11,79,578.60|   2377| Deposit|\n",
      "|4998367691|29-Sep-16|NEFT/UTBIN1627373...|  null| 29-Sep-16|            |   21,000.00|    13,05,578.60|   2392| Deposit|\n",
      "|4998368406|24-Aug-16|RUPAY POS ACQ SET...|  null| 24-Aug-16|            |    3,357.09|-54,77,02,989.98|   3107| Deposit|\n",
      "|4998368550|23-Dec-16|RUPAY POS ACQ SET...|  null| 23-Dec-16|            | 9,08,269.11|-54,64,01,213.70|   3251| Deposit|\n",
      "|4998368568|03-Jan-17|VISA POS ACQ SETT...|  null| 03-Jan-17|            |10,75,484.03|-54,48,63,083.41|   3269| Deposit|\n",
      "|4998368652|30-Jan-17|RUPAY POS ACQ SET...|  null| 30-Jan-17|            | 5,71,987.24|-54,47,61,701.00|   3353| Deposit|\n",
      "|4998368692|15-Feb-17|RUPAY POS ACQ SET...|  null| 15-Feb-17|            | 6,48,182.82|-54,64,80,190.90|   3393| Deposit|\n",
      "|4998369092|08-Jun-17|MASTER POSDOM ACQ...|  null| 08-Jun-17|            | 2,81,884.39|-54,67,06,135.31|   3793| Deposit|\n",
      "|4998369259|11-Jul-17|RUPAY POS ACQ SET...|  null| 11-Jul-17|            |12,90,741.85|-54,45,80,132.48|   3960| Deposit|\n",
      "|4998369477|28-Aug-17|MASTER POSDOM ACQ...|  null| 28-Aug-17|            | 3,38,614.50|-54,64,93,169.91|   4178| Deposit|\n",
      "|4998369678|04-Oct-17|Indiaforensic MAS...|  null| 04-Oct-17|            | 2,57,720.13|-54,79,89,018.49|   4379| Deposit|\n",
      "|4998369843|03-Nov-17|Indiaforensic MAS...|  null| 03-Nov-17|            |        99.5|-54,40,17,375.70|   4544| Deposit|\n",
      "+----------+---------+--------------------+------+----------+------------+------------+----------------+-------+--------+\n",
      "only showing top 20 rows\n",
      "\n"
     ]
    }
   ],
   "source": [
    "Bank_log_details.show()"
   ]
  },
  {
   "cell_type": "code",
   "execution_count": 12,
   "metadata": {
    "editable": true
   },
   "outputs": [],
   "source": [
    "output_path = r\"Output_files\""
   ]
  },
  {
   "cell_type": "code",
   "execution_count": 13,
   "metadata": {
    "editable": true
   },
   "outputs": [],
   "source": [
    "Bank_log_details.write.mode('overwrite').parquet(os.path.join(output_path+'Bank_log/'))"
   ]
  },
  {
   "cell_type": "code",
   "execution_count": 14,
   "metadata": {
    "editable": true
   },
   "outputs": [],
   "source": [
    "Schem = StructType(\n",
    "[\n",
    "  \n",
    "  StructField(\"Account_No\",LongType(),False),\n",
    "  StructField(\"Age\",IntegerType(),False),\n",
    "  StructField(\"Gender\",StringType(),False),\n",
    "  StructField(\"Education\",StringType(),False),\n",
    "  StructField(\"Marital_Status\",StringType(),False),\n",
    "  StructField(\"Acc_Type\",StringType(),False),\n",
    "  StructField(\"Months_On_Bank\",IntegerType(),False),\n",
    "  StructField(\"Credit_Card\",StringType(),False),\n",
    "  StructField(\"Credit_Score\",IntegerType(),False),\n",
    "  StructField(\"Estimated_Income\",StringType(),False),\n",
    "  StructField(\"Cust_id\",IntegerType(),False),\n",
    "  StructField(\"corrupt_record\",StringType(),False)  \n",
    "    \n",
    "]\n",
    "\n",
    ")"
   ]
  },
  {
   "cell_type": "code",
   "execution_count": 20,
   "metadata": {
    "editable": true
   },
   "outputs": [],
   "source": [
    "Bank_df = (\n",
    "            spark.read\n",
    "            .option(\"mode\",\"PERMISSIVE\")\n",
    "            .option(\"columnNameOfCorruptRecord\",\"corrupt_record\")\n",
    "            .csv(r\"Bank Customer Details.csv\",header = True,schema = Schem)\n",
    "     )"
   ]
  },
  {
   "cell_type": "code",
   "execution_count": 21,
   "metadata": {
    "editable": true
   },
   "outputs": [
    {
     "name": "stdout",
     "output_type": "stream",
     "text": [
      "root\n",
      " |-- Account_No: long (nullable = true)\n",
      " |-- Age: integer (nullable = true)\n",
      " |-- Gender: string (nullable = true)\n",
      " |-- Education: string (nullable = true)\n",
      " |-- Marital_Status: string (nullable = true)\n",
      " |-- Acc_Type: string (nullable = true)\n",
      " |-- Months_On_Bank: integer (nullable = true)\n",
      " |-- Credit_Card: string (nullable = true)\n",
      " |-- Credit_Score: integer (nullable = true)\n",
      " |-- Estimated_Income: string (nullable = true)\n",
      " |-- Cust_id: integer (nullable = true)\n",
      " |-- corrupt_record: string (nullable = true)\n",
      "\n"
     ]
    }
   ],
   "source": [
    "Bank_df.printSchema()"
   ]
  },
  {
   "cell_type": "code",
   "execution_count": 22,
   "metadata": {
    "editable": true
   },
   "outputs": [
    {
     "name": "stdout",
     "output_type": "stream",
     "text": [
      "+----------+---+------+-------------+--------------+--------+--------------+-----------+------------+----------------+-------+--------------+\n",
      "|Account_No|Age|Gender|    Education|Marital_Status|Acc_Type|Months_On_Bank|Credit_Card|Credit_Score|Estimated_Income|Cust_id|corrupt_record|\n",
      "+----------+---+------+-------------+--------------+--------+--------------+-----------+------------+----------------+-------+--------------+\n",
      "|4998365300| 45|  Male|  High School|       Married| Savings|            42|        Yes|         619|       60K - 80K|      1|          null|\n",
      "|4998365301| 49|Female|     Graduate|        Single| Savings|            41|         No|         608|   Less than 40K|      2|          null|\n",
      "|4998365302| 51|  Male|     Graduate|       Married| Savings|            42|        Yes|         502|      80K - 120K|      3|          null|\n",
      "|4998365303| 40|Female|  High School|          null| Savings|            39|         No|         699|   Less than 40K|      4|          null|\n",
      "|4998365304| 40|  Male|   Uneducated|       Married| Savings|            43|        Yes|         850|       60K - 80K|      5|          null|\n",
      "|4998365305| 44|  Male|     Graduate|       Married| Savings|            44|        Yes|         645|       40K - 60K|      6|          null|\n",
      "|4998365306| 51|  Male|      Unknown|       Married|  Salary|            50|        Yes|         822|          120K +|      7|          null|\n",
      "|4998365307| 32|  Male|  High School|          null| Current|            29|        Yes|         376|       60K - 80K|      8|          null|\n",
      "|4998365308| 37|  Male|   Uneducated|        Single| Savings|            44|         No|         501|       60K - 80K|      9|          null|\n",
      "|4998365309| 48|  Male|     Graduate|        Single| Savings|            27|        Yes|         684|      80K - 120K|     10|          null|\n",
      "|4998365310| 42|  Male|   Uneducated|          null| Savings|            31|         No|         528|          120K +|     11|          null|\n",
      "|4998365311| 65|  Male|      Unknown|       Married| Savings|            24|        Yes|         497|       40K - 60K|     12|          null|\n",
      "|4998365312| 56|  Male|      College|        Single| Savings|            34|        Yes|         476|      80K - 120K|     13|          null|\n",
      "|4998365313| 35|  Male|     Graduate|          null| Savings|            25|         No|         549|       60K - 80K|     14|          null|\n",
      "|4998365314| 57|Female|     Graduate|       Married| Savings|            35|        Yes|         635|   Less than 40K|     15|          null|\n",
      "|4998365315| 44|  Male|      Unknown|          null| Savings|            45|         No|         616|      80K - 120K|     16|          null|\n",
      "|4998365316| 48|  Male|Post-Graduate|        Single| Savings|            58|        Yes|         653|      80K - 120K|     17|          null|\n",
      "|4998365317| 41|  Male|      Unknown|       Married| Savings|            24|        Yes|         549|      80K - 120K|     18|          null|\n",
      "|4998365318| 61|  Male|  High School|       Married| Savings|            45|         No|         587|       40K - 60K|     19|          null|\n",
      "|4998365319| 45|Female|     Graduate|       Married| Savings|            24|        Yes|         726|         Unknown|     20|          null|\n",
      "+----------+---+------+-------------+--------------+--------+--------------+-----------+------------+----------------+-------+--------------+\n",
      "only showing top 20 rows\n",
      "\n"
     ]
    }
   ],
   "source": [
    "Bank_df.show()"
   ]
  },
  {
   "cell_type": "code",
   "execution_count": 23,
   "metadata": {
    "editable": true
   },
   "outputs": [
    {
     "name": "stdout",
     "output_type": "stream",
     "text": [
      "+----------+----+------+---------+--------------+--------+--------------+-----------+------------+----------------+-------+--------------------+\n",
      "|Account_No| Age|Gender|Education|Marital_Status|Acc_Type|Months_On_Bank|Credit_Card|Credit_Score|Estimated_Income|Cust_id|      corrupt_record|\n",
      "+----------+----+------+---------+--------------+--------+--------------+-----------+------------+----------------+-------+--------------------+\n",
      "|      null|null|  null|     null|          null|    null|          null|       null|        null|            null|   null|4998375299,Fiftyo...|\n",
      "|      null|null|  null|     null|          null|    null|          null|       null|        null|            null|   null|5998375299,51,1,G...|\n",
      "|      null|null|  null|     null|          null|    null|          null|       null|        null|            null|   null|4998375299N,51,Ma...|\n",
      "+----------+----+------+---------+--------------+--------+--------------+-----------+------------+----------------+-------+--------------------+\n",
      "\n"
     ]
    }
   ],
   "source": [
    "Bank_df.filter(col(\"corrupt_record\").isNotNull()).show()"
   ]
  },
  {
   "cell_type": "code",
   "execution_count": 24,
   "metadata": {
    "editable": true
   },
   "outputs": [],
   "source": [
    "Customer = Bank_df.select(\"Cust_id\",\n",
    "                      \"Gender\",\n",
    "                      \"Education\",\n",
    "                      \"Marital_Status\",\n",
    "                       \"Age\",\n",
    "                       \"Account_No\"\n",
    "                    ).drop_duplicates()"
   ]
  },
  {
   "cell_type": "code",
   "execution_count": 25,
   "metadata": {
    "editable": true
   },
   "outputs": [
    {
     "name": "stdout",
     "output_type": "stream",
     "text": [
      "+-------+------+-------------+--------------+---+----------+\n",
      "|Cust_id|Gender|    Education|Marital_Status|Age|Account_No|\n",
      "+-------+------+-------------+--------------+---+----------+\n",
      "|     91|Female|  High School|        Single| 51|4998365390|\n",
      "|    331|Female|     Graduate|        Single| 43|4998365630|\n",
      "|    465|  Male|     Graduate|        Single| 50|4998365764|\n",
      "|    635|  Male|   Uneducated|       Married| 65|4998365934|\n",
      "|    775|  Male|      College|        Single| 46|4998366074|\n",
      "|    838|  Male|      College|       Married| 56|4998366137|\n",
      "|    909|Female|  High School|        Single| 46|4998366208|\n",
      "|   1080|Female|     Graduate|       Married| 45|4998366379|\n",
      "|   1330|  Male|     Graduate|       Married| 33|4998366629|\n",
      "|   1447|  Male|   Uneducated|      Divorced| 54|4998366746|\n",
      "|   1532|  Male|      Unknown|       Married| 39|4998366831|\n",
      "|   1582|Female|  High School|        Single| 33|4998366881|\n",
      "|   2275|Female|     Graduate|       Married| 61|4998367574|\n",
      "|   2370|  Male|      Unknown|       Married| 56|4998367669|\n",
      "|   2831|Female|   Uneducated|        Single| 46|4998368130|\n",
      "|   3043|  Male|     Graduate|        Single| 44|4998368342|\n",
      "|   3821|Female|Post-Graduate|        Single| 42|4998369120|\n",
      "|   3964|Female|   Uneducated|        Single| 41|4998369263|\n",
      "|   4005|  Male|   Uneducated|      Divorced| 42|4998369304|\n",
      "|   4136|  Male|      College|       Married| 44|4998369435|\n",
      "+-------+------+-------------+--------------+---+----------+\n",
      "only showing top 20 rows\n",
      "\n"
     ]
    }
   ],
   "source": [
    "Customer.show()"
   ]
  },
  {
   "cell_type": "code",
   "execution_count": 26,
   "metadata": {
    "editable": true
   },
   "outputs": [],
   "source": [
    "Account = Bank_df.select(\"Account_No\",\n",
    "                    \"Acc_Type\",\n",
    "                    \"Months_On_Bank\",\n",
    "                    \"Credit_Score\",\n",
    "                    \"Credit_Card\",\n",
    "                    \"Estimated_Income\"\n",
    "                    ).drop_duplicates()"
   ]
  },
  {
   "cell_type": "code",
   "execution_count": 27,
   "metadata": {
    "editable": true
   },
   "outputs": [],
   "source": [
    "log_details = spark.read.parquet(os.path.join(output_path+'Bank_log/'))"
   ]
  },
  {
   "cell_type": "code",
   "execution_count": 28,
   "metadata": {
    "editable": true
   },
   "outputs": [
    {
     "name": "stdout",
     "output_type": "stream",
     "text": [
      "+----------+---------+--------------------+------+----------+--------------+-----------+----------------+-------+--------+\n",
      "|Account_No|     DATE|       TRANS_DETAILS|CHQ_NO|VALUE_DATE|  WITHDRAW_AMT|DEPOSIT_AMT|     BALANCE_AMT|Tras_id|  Action|\n",
      "+----------+---------+--------------------+------+----------+--------------+-----------+----------------+-------+--------+\n",
      "|4998365308|16-Aug-17|FDRL/INTERNAL FUN...|  null| 16-Aug-17|              |5,00,000.00|    80,00,000.00|      9| Deposit|\n",
      "|4998365344|06-Sep-17|INDO GIBL Indiafo...|  null| 06-Sep-17|   2,76,000.00|           |    46,11,968.00|     45|Withdraw|\n",
      "|4998365920|17-Aug-18|Indfor INCOME IND...|  null| 17-Aug-18|      4,440.00|           |    15,20,395.00|    621|Withdraw|\n",
      "|4998366217|03-Dec-18|Indfor INCOME IND...|  null| 03-Dec-18|           120|           |    12,12,578.00|    918|Withdraw|\n",
      "|4998366257|17-Dec-18|INDO GIBL Indiafo...|  null| 17-Dec-18|     33,549.00|           |    19,02,273.00|    958|Withdraw|\n",
      "|4998366357|19-Jan-19|INDO GIBL Indiafo...|  null| 19-Jan-19|   2,29,800.00|           |    10,48,050.00|   1058|Withdraw|\n",
      "|4998366413|22-Dec-16|BBPS SETTLEMENT F...|  null| 22-Dec-16|         98.15|           |     9,46,096.46|   1114|Withdraw|\n",
      "|4998366481|28-Mar-17|TRF FRM  Indiafor...|  null| 28-Mar-17|              |2,00,000.00|     9,16,834.71|   1182| Deposit|\n",
      "|4998366575|13-Jun-17|BBPS SETMNT FOR D...|  null| 13-Jun-17|     54,089.18|           |     5,01,574.90|   1276|Withdraw|\n",
      "|4998366605|03-Jul-17|REV SWITCHING FEE...|  null| 03-Jul-17|              |   1,671.63|     8,98,863.38|   1306| Deposit|\n",
      "|4998366618|12-Jul-17|BBPS SETMNT FOR D...|  null| 12-Jul-17|   1,28,509.50|           |    10,67,365.19|   1319|Withdraw|\n",
      "|4998366665|04-Aug-17|FDRL/INTERNAL FUN...|  null| 04-Aug-17|              |  50,000.00|    13,59,823.06|   1366| Deposit|\n",
      "|4998367038|08-May-18|FDRL/INTERNAL FUN...|  null| 08-May-18|              |3,00,000.00|    11,02,974.29|   1739| Deposit|\n",
      "|4998367119|19-Jul-18|    BBPS DT 19072018|  null| 19-Jul-18|     30,494.01|           |    10,62,729.80|   1820|Withdraw|\n",
      "|4998367214|11-Oct-18|TRF TO  Indiafore...|  null| 11-Oct-18|   6,00,000.00|           |     6,97,996.01|   1915|Withdraw|\n",
      "|4998367341|08-Jan-19|    BBPS DT 08012019|  null| 08-Jan-19|   2,00,263.25|           |     6,22,231.48|   2042|Withdraw|\n",
      "|4998367389|05-Feb-19|FDRL/INTERNAL FUN...|  null| 05-Feb-19|              |2,00,000.00|     8,42,805.78|   2090| Deposit|\n",
      "|4998367749|05-Nov-16|            6.31E+11|  null| 05-Nov-16|              |   1,000.00|     8,61,572.85|   2450| Deposit|\n",
      "|4998367963|23-Nov-16|            6.33E+11|  null| 23-Nov-16|              |   5,000.00|    17,30,580.85|   2664| Deposit|\n",
      "|4998368270|26-Sep-18|TRF TO  Riskpro M...|  null| 26-Sep-18|1,31,00,000.00|           |-43,66,14,494.45|   2971|Withdraw|\n",
      "+----------+---------+--------------------+------+----------+--------------+-----------+----------------+-------+--------+\n",
      "only showing top 20 rows\n",
      "\n"
     ]
    }
   ],
   "source": [
    "log_details.show()"
   ]
  },
  {
   "cell_type": "code",
   "execution_count": 29,
   "metadata": {
    "editable": true
   },
   "outputs": [],
   "source": [
    "from pyspark.sql.functions import monotonically_increasing_id"
   ]
  },
  {
   "cell_type": "code",
   "execution_count": 30,
   "metadata": {
    "editable": true
   },
   "outputs": [],
   "source": [
    "Bank_trans = Bank_df.join(log_details, Bank_df.Account_No == log_details.Account_No, how='inner')\\\n",
    "                        .select(monotonically_increasing_id().alias(\"Trans_id\"),\\\n",
    "                        col(\"Cust_id\"),\\\n",
    "                        Bank_df.Account_No,\\\n",
    "                        col(\"Action\"),\\\n",
    "                        col(\"DATE\"),\n",
    "                        col(\"VALUE_DATE\"),\\\n",
    "                        \"Acc_Type\"\n",
    "                        )"
   ]
  },
  {
   "cell_type": "code",
   "execution_count": 31,
   "metadata": {
    "editable": true
   },
   "outputs": [
    {
     "name": "stdout",
     "output_type": "stream",
     "text": [
      "+--------+-------+----------+--------+---------+----------+--------+\n",
      "|Trans_id|Cust_id|Account_No|  Action|     DATE|VALUE_DATE|Acc_Type|\n",
      "+--------+-------+----------+--------+---------+----------+--------+\n",
      "|       0|      9|4998365308| Deposit|16-Aug-17| 16-Aug-17| Savings|\n",
      "|       1|     45|4998365344|Withdraw|06-Sep-17| 06-Sep-17| Savings|\n",
      "|       2|    621|4998365920|Withdraw|17-Aug-18| 17-Aug-18| Savings|\n",
      "|       3|    918|4998366217|Withdraw|03-Dec-18| 03-Dec-18| Savings|\n",
      "|       4|    958|4998366257|Withdraw|17-Dec-18| 17-Dec-18| Current|\n",
      "|       5|   1058|4998366357|Withdraw|19-Jan-19| 19-Jan-19| Savings|\n",
      "|       6|   1114|4998366413|Withdraw|22-Dec-16| 22-Dec-16| Savings|\n",
      "|       7|   1182|4998366481| Deposit|28-Mar-17| 28-Mar-17| Savings|\n",
      "|       8|   1276|4998366575|Withdraw|13-Jun-17| 13-Jun-17| Savings|\n",
      "|       9|   1306|4998366605| Deposit|03-Jul-17| 03-Jul-17| Savings|\n",
      "|      10|   1319|4998366618|Withdraw|12-Jul-17| 12-Jul-17| Savings|\n",
      "|      11|   1366|4998366665| Deposit|04-Aug-17| 04-Aug-17| Savings|\n",
      "|      12|   1739|4998367038| Deposit|08-May-18| 08-May-18| Savings|\n",
      "|      13|   1820|4998367119|Withdraw|19-Jul-18| 19-Jul-18| Savings|\n",
      "|      14|   1915|4998367214|Withdraw|11-Oct-18| 11-Oct-18| Savings|\n",
      "|      15|   2042|4998367341|Withdraw|08-Jan-19| 08-Jan-19| Savings|\n",
      "|      16|   2090|4998367389| Deposit|05-Feb-19| 05-Feb-19| Savings|\n",
      "|      17|   2450|4998367749| Deposit|05-Nov-16| 05-Nov-16| Savings|\n",
      "|      18|   2664|4998367963| Deposit|23-Nov-16| 23-Nov-16| Savings|\n",
      "|      19|   2971|4998368270|Withdraw|26-Sep-18| 26-Sep-18| Savings|\n",
      "+--------+-------+----------+--------+---------+----------+--------+\n",
      "only showing top 20 rows\n",
      "\n"
     ]
    }
   ],
   "source": [
    "Bank_trans.show()"
   ]
  },
  {
   "cell_type": "code",
   "execution_count": 32,
   "metadata": {
    "editable": true
   },
   "outputs": [],
   "source": [
    "Bank_trans.write.mode('overwrite').parquet(output_path+'Bank_trans/')"
   ]
  },
  {
   "cell_type": "code",
   "execution_count": 33,
   "metadata": {
    "editable": true
   },
   "outputs": [],
   "source": [
    "Customer.write.mode('overwrite').parquet(output_path+'Customer/')"
   ]
  },
  {
   "cell_type": "code",
   "execution_count": 34,
   "metadata": {
    "editable": true
   },
   "outputs": [],
   "source": [
    "Account.write.mode('overwrite').parquet(output_path+'Account/')"
   ]
  },
  {
   "cell_type": "code",
   "execution_count": null,
   "metadata": {
    "editable": true
   },
   "outputs": [],
   "source": []
  },
  {
   "cell_type": "code",
   "execution_count": null,
   "metadata": {
    "editable": true
   },
   "outputs": [],
   "source": []
  },
  {
   "cell_type": "code",
   "execution_count": null,
   "metadata": {
    "editable": true
   },
   "outputs": [],
   "source": []
  }
 ],
 "metadata": {
  "kernelspec": {
   "display_name": "Python 3",
   "language": "python",
   "name": "python3"
  },
  "language_info": {
   "codemirror_mode": {
    "name": "ipython",
    "version": 3
   },
   "file_extension": ".py",
   "mimetype": "text/x-python",
   "name": "python",
   "nbconvert_exporter": "python",
   "pygments_lexer": "ipython3",
   "version": "3.6.3"
  }
 },
 "nbformat": 4,
 "nbformat_minor": 5
}
