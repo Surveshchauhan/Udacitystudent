{
 "cells": [
  {
   "cell_type": "markdown",
   "metadata": {},
   "source": [
    "# Convolutional Neural Networks\n",
    "\n",
    "## Project: Write an Algorithm for Landmark Classification\n",
    "\n",
    "### A simple app\n",
    "\n",
    "In this notebook we build a very simple app that uses our exported model.\n",
    "\n",
    "> <img src=\"static_images/icons/noun-info-2558213.png\" alt=\"?\" style=\"width:25px\"/> Note how we are not importing anything from our source code (we do not use any module from the ``src`` directory). This is because the exported model, differently from the model weights, is a standalone serialization of our model and therefore it does not need anything else. You can ship that file to anybody, and as long as they can import ``torch``, they will be able to use your model. This is very important for releasing pytorch models to production.\n",
    "\n",
    "### Test your app\n",
    "Go to a search engine for images (like Google Images) and search for images of some of the landmarks, like the Eiffel Tower, the Golden Gate Bridge, Machu Picchu and so on. Save a few examples locally, then upload them to your app to see how your model behaves!\n",
    "\n",
    "The app will show the top 5 classes that the model think are most relevant for the picture you have uploaded"
   ]
  },
  {
   "cell_type": "code",
   "execution_count": null,
   "metadata": {},
   "outputs": [],
   "source": [
    "# Install requirements\n",
    "!pip install -r requirements.txt | grep -v \"already satisfied\""
   ]
  },
  {
   "cell_type": "code",
   "execution_count": null,
   "metadata": {},
   "outputs": [],
   "source": [
    "!python -m pip install --upgrade pip"
   ]
  },
  {
   "cell_type": "code",
   "execution_count": null,
   "metadata": {},
   "outputs": [],
   "source": [
    "!pip install ipywidgets"
   ]
  },
  {
   "cell_type": "code",
   "execution_count": 1,
   "metadata": {},
   "outputs": [
    {
     "name": "stdout",
     "output_type": "stream",
     "text": [
      "Enabling notebook extension jupyter-js-widgets/extension...\n",
      "      - Validating: \u001b[32mOK\u001b[0m\n"
     ]
    }
   ],
   "source": [
    "!jupyter nbextension enable --py widgetsnbextension"
   ]
  },
  {
   "cell_type": "code",
   "execution_count": null,
   "metadata": {},
   "outputs": [],
   "source": [
    "!pip install jupyterlab\n",
    "!pip install jupyter_server"
   ]
  },
  {
   "cell_type": "code",
   "execution_count": 2,
   "metadata": {},
   "outputs": [],
   "source": [
    "import torch\n",
    "import torchvision\n",
    "model_reloaded = torch.jit.load(\"checkpoints/transfer_exported.pt\")"
   ]
  },
  {
   "cell_type": "code",
   "execution_count": 3,
   "metadata": {},
   "outputs": [
    {
     "data": {
      "application/vnd.jupyter.widget-view+json": {
       "model_id": "963d02c4a5dc468791d07e13d9c56bf1",
       "version_major": 2,
       "version_minor": 0
      },
      "text/plain": [
       "VBox(children=(Label(value='Please upload a picture of a landmark'), FileUpload(value={}, description='Upload'…"
      ]
     },
     "metadata": {},
     "output_type": "display_data"
    },
    {
     "ename": "RuntimeError",
     "evalue": "The following operation failed in the TorchScript interpreter.\nTraceback of TorchScript, serialized code (most recent call last):\n  File \"code/__torch__/src/predictor.py\", line 16, in forward\n    with _0:\n      transforms = self.transforms\n      x0 = (transforms).forward(x, )\n            ~~~~~~~~~~~~~~~~~~~ <--- HERE\n      model = self.model\n      x1 = (model).forward(x0, )\n  File \"code/__torch__/torch/nn/modules/container/___torch_mangle_14.py\", line 19, in forward\n    input1 = (_1).forward(input0, )\n    input2 = (_2).forward(input1, )\n    return (_3).forward(input2, )\n            ~~~~~~~~~~~ <--- HERE\n  def __len__(self: __torch__.torch.nn.modules.container.___torch_mangle_14.Sequential) -> int:\n    return 4\n  File \"code/__torch__/torchvision/transforms/transforms.py\", line 56, in forward\n    std = self.std\n    inplace = self.inplace\n    return _6(tensor, mean, std, inplace, )\n           ~~ <--- HERE\n  File \"code/__torch__/torchvision/transforms/functional.py\", line 129, in normalize\n  else:\n    std1 = std0\n  _34 = torch.div_(torch.sub_(tensor1, mean1), std1)\n                   ~~~~~~~~~~ <--- HERE\n  return tensor1\ndef get_image_size(img: Tensor) -> List[int]:\n\nTraceback of TorchScript, original code (most recent call last):\n  File \"/workspace/home/src/predictor.py\", line 32, in forward\n        with torch.no_grad():\n            # 1. apply transforms\n            x  = self.transforms(x)\n                 ~~~~~~~~~~~~~~~ <--- HERE\n            # 2. get the logits\n            x  = self.model(x)\n  File \"/opt/conda/lib/python3.7/site-packages/torch/nn/modules/container.py\", line 141, in forward\n    def forward(self, input):\n        for module in self:\n            input = module(input)\n                    ~~~~~~ <--- HERE\n        return input\n  File \"/root/.local/lib/python3.7/site-packages/torchvision/transforms/transforms.py\", line 270, in forward\n            Tensor: Normalized Tensor image.\n        \"\"\"\n        return F.normalize(tensor, self.mean, self.std, self.inplace)\n               ~~~~~~~~~~~ <--- HERE\n  File \"/root/.local/lib/python3.7/site-packages/torchvision/transforms/functional.py\", line 363, in normalize\n    if std.ndim == 1:\n        std = std.view(-1, 1, 1)\n    tensor.sub_(mean).div_(std)\n    ~~~~~~~~~~~ <--- HERE\n    return tensor\nRuntimeError: The size of tensor a (4) must match the size of tensor b (3) at non-singleton dimension 1\n",
     "output_type": "error",
     "traceback": [
      "\u001b[0;31m---------------------------------------------------------------------------\u001b[0m",
      "\u001b[0;31mRuntimeError\u001b[0m                              Traceback (most recent call last)",
      "\u001b[0;32m<ipython-input-3-1ce2e9568466>\u001b[0m in \u001b[0;36mon_click_classify\u001b[0;34m(change)\u001b[0m\n\u001b[1;32m     35\u001b[0m \u001b[0;34m\u001b[0m\u001b[0m\n\u001b[1;32m     36\u001b[0m     \u001b[0;31m# Calling the model\u001b[0m\u001b[0;34m\u001b[0m\u001b[0;34m\u001b[0m\u001b[0;34m\u001b[0m\u001b[0m\n\u001b[0;32m---> 37\u001b[0;31m     \u001b[0msoftmax\u001b[0m \u001b[0;34m=\u001b[0m \u001b[0mlearn_inf\u001b[0m\u001b[0;34m(\u001b[0m\u001b[0mtimg\u001b[0m\u001b[0;34m)\u001b[0m\u001b[0;34m.\u001b[0m\u001b[0mdata\u001b[0m\u001b[0;34m.\u001b[0m\u001b[0mcpu\u001b[0m\u001b[0;34m(\u001b[0m\u001b[0;34m)\u001b[0m\u001b[0;34m.\u001b[0m\u001b[0mnumpy\u001b[0m\u001b[0;34m(\u001b[0m\u001b[0;34m)\u001b[0m\u001b[0;34m.\u001b[0m\u001b[0msqueeze\u001b[0m\u001b[0;34m(\u001b[0m\u001b[0;34m)\u001b[0m\u001b[0;34m\u001b[0m\u001b[0;34m\u001b[0m\u001b[0m\n\u001b[0m\u001b[1;32m     38\u001b[0m \u001b[0;34m\u001b[0m\u001b[0m\n\u001b[1;32m     39\u001b[0m     \u001b[0;31m# Get the indexes of the classes ordered by softmax\u001b[0m\u001b[0;34m\u001b[0m\u001b[0;34m\u001b[0m\u001b[0;34m\u001b[0m\u001b[0m\n",
      "\u001b[0;32m/opt/conda/lib/python3.7/site-packages/torch/nn/modules/module.py\u001b[0m in \u001b[0;36m_call_impl\u001b[0;34m(self, *input, **kwargs)\u001b[0m\n\u001b[1;32m   1108\u001b[0m         if not (self._backward_hooks or self._forward_hooks or self._forward_pre_hooks or _global_backward_hooks\n\u001b[1;32m   1109\u001b[0m                 or _global_forward_hooks or _global_forward_pre_hooks):\n\u001b[0;32m-> 1110\u001b[0;31m             \u001b[0;32mreturn\u001b[0m \u001b[0mforward_call\u001b[0m\u001b[0;34m(\u001b[0m\u001b[0;34m*\u001b[0m\u001b[0minput\u001b[0m\u001b[0;34m,\u001b[0m \u001b[0;34m**\u001b[0m\u001b[0mkwargs\u001b[0m\u001b[0;34m)\u001b[0m\u001b[0;34m\u001b[0m\u001b[0;34m\u001b[0m\u001b[0m\n\u001b[0m\u001b[1;32m   1111\u001b[0m         \u001b[0;31m# Do not call functions when jit is used\u001b[0m\u001b[0;34m\u001b[0m\u001b[0;34m\u001b[0m\u001b[0;34m\u001b[0m\u001b[0m\n\u001b[1;32m   1112\u001b[0m         \u001b[0mfull_backward_hooks\u001b[0m\u001b[0;34m,\u001b[0m \u001b[0mnon_full_backward_hooks\u001b[0m \u001b[0;34m=\u001b[0m \u001b[0;34m[\u001b[0m\u001b[0;34m]\u001b[0m\u001b[0;34m,\u001b[0m \u001b[0;34m[\u001b[0m\u001b[0;34m]\u001b[0m\u001b[0;34m\u001b[0m\u001b[0;34m\u001b[0m\u001b[0m\n",
      "\u001b[0;31mRuntimeError\u001b[0m: The following operation failed in the TorchScript interpreter.\nTraceback of TorchScript, serialized code (most recent call last):\n  File \"code/__torch__/src/predictor.py\", line 16, in forward\n    with _0:\n      transforms = self.transforms\n      x0 = (transforms).forward(x, )\n            ~~~~~~~~~~~~~~~~~~~ <--- HERE\n      model = self.model\n      x1 = (model).forward(x0, )\n  File \"code/__torch__/torch/nn/modules/container/___torch_mangle_14.py\", line 19, in forward\n    input1 = (_1).forward(input0, )\n    input2 = (_2).forward(input1, )\n    return (_3).forward(input2, )\n            ~~~~~~~~~~~ <--- HERE\n  def __len__(self: __torch__.torch.nn.modules.container.___torch_mangle_14.Sequential) -> int:\n    return 4\n  File \"code/__torch__/torchvision/transforms/transforms.py\", line 56, in forward\n    std = self.std\n    inplace = self.inplace\n    return _6(tensor, mean, std, inplace, )\n           ~~ <--- HERE\n  File \"code/__torch__/torchvision/transforms/functional.py\", line 129, in normalize\n  else:\n    std1 = std0\n  _34 = torch.div_(torch.sub_(tensor1, mean1), std1)\n                   ~~~~~~~~~~ <--- HERE\n  return tensor1\ndef get_image_size(img: Tensor) -> List[int]:\n\nTraceback of TorchScript, original code (most recent call last):\n  File \"/workspace/home/src/predictor.py\", line 32, in forward\n        with torch.no_grad():\n            # 1. apply transforms\n            x  = self.transforms(x)\n                 ~~~~~~~~~~~~~~~ <--- HERE\n            # 2. get the logits\n            x  = self.model(x)\n  File \"/opt/conda/lib/python3.7/site-packages/torch/nn/modules/container.py\", line 141, in forward\n    def forward(self, input):\n        for module in self:\n            input = module(input)\n                    ~~~~~~ <--- HERE\n        return input\n  File \"/root/.local/lib/python3.7/site-packages/torchvision/transforms/transforms.py\", line 270, in forward\n            Tensor: Normalized Tensor image.\n        \"\"\"\n        return F.normalize(tensor, self.mean, self.std, self.inplace)\n               ~~~~~~~~~~~ <--- HERE\n  File \"/root/.local/lib/python3.7/site-packages/torchvision/transforms/functional.py\", line 363, in normalize\n    if std.ndim == 1:\n        std = std.view(-1, 1, 1)\n    tensor.sub_(mean).div_(std)\n    ~~~~~~~~~~~ <--- HERE\n    return tensor\nRuntimeError: The size of tensor a (4) must match the size of tensor b (3) at non-singleton dimension 1\n"
     ]
    }
   ],
   "source": [
    "from ipywidgets import VBox, Button, FileUpload, Output, Label\n",
    "from PIL import Image\n",
    "from IPython.display import display\n",
    "import io\n",
    "import numpy as np\n",
    "import torchvision\n",
    "import torchvision.transforms as T\n",
    "import torch\n",
    "\n",
    "# Decide which model you want to use among the ones exported\n",
    "model_path = \"checkpoints/original_exported.pt\"\n",
    "learn_inf = torch.jit.load(model_path)\n",
    "\n",
    "def on_click_classify(change):\n",
    "\n",
    "    # Load image that has been uploaded\n",
    "    fn = io.BytesIO(btn_upload.data[-1])\n",
    "\n",
    "    img = Image.open(fn)\n",
    "    img.load()\n",
    "\n",
    "    # Let's clear the previous output (if any)\n",
    "    out_pl.clear_output()\n",
    "\n",
    "    # Display the image\n",
    "    with out_pl:\n",
    "\n",
    "        ratio = img.size[0] / img.size[1]\n",
    "        c = img.copy()\n",
    "        c.thumbnail([ratio * 200, 200])\n",
    "        display(c)\n",
    "\n",
    "    # Transform to tensor\n",
    "    timg = T.ToTensor()(img).unsqueeze_(0)\n",
    "\n",
    "    # Calling the model\n",
    "    softmax = learn_inf(timg).data.cpu().numpy().squeeze()\n",
    "    \n",
    "    # Get the indexes of the classes ordered by softmax\n",
    "    # (larger first)\n",
    "    idxs = np.argsort(softmax)[::-1]\n",
    "    \n",
    "    # Loop over the classes with the largest softmax\n",
    "    for i in range(5):\n",
    "        # Get softmax value\n",
    "        p = softmax[idxs[i]]\n",
    "    \n",
    "        # Get class name\n",
    "        landmark_name = learn_inf.class_names[idxs[i]]\n",
    "        \n",
    "        labels[i].value = f\"{landmark_name} (prob: {p:.2f})\"\n",
    "\n",
    "\n",
    "# Putting back btn_upload to a widget for next cell\n",
    "btn_upload = FileUpload()\n",
    "\n",
    "btn_run = Button(description=\"Classify\")\n",
    "btn_run.on_click(on_click_classify)\n",
    "\n",
    "labels = []\n",
    "for _ in range(5):\n",
    "    labels.append(Label())\n",
    "\n",
    "out_pl = Output()\n",
    "out_pl.clear_output()\n",
    "\n",
    "wgs = [Label(\"Please upload a picture of a landmark\"), btn_upload, btn_run, out_pl]\n",
    "wgs.extend(labels)\n",
    "\n",
    "VBox(wgs)"
   ]
  },
  {
   "cell_type": "markdown",
   "metadata": {},
   "source": [
    "## (optional) Standalone app or web app\n",
    "\n",
    "You can run this notebook as a standalone app on your computer by following these steps:\n",
    "\n",
    "1. Download this notebook in a directory on your machine\n",
    "2. Download the model export (for example, ``checkpoints/transfer_exported.pt``) in a subdirectory called ``checkpoints`` within the directory where you save the app.ipynb notebook\n",
    "3. Install voila if you don't have it already (``pip install voila``)\n",
    "4. Run your app: ``voila app.ipynb --show_tracebacks=True``\n",
    "5. Customize your notebook to make your app prettier and rerun voila\n",
    "\n",
    "You can also deploy this app as a website using Binder: https://voila.readthedocs.io/en/stable/deploy.html#deployment-on-binder"
   ]
  },
  {
   "cell_type": "markdown",
   "metadata": {},
   "source": [
    "# Create your submission archive\n",
    "\n",
    "Now that you are done with your project, please run the following cell. It will generate a file containing all the code you have written, as well as the notebooks. Please submit that file to complete your project"
   ]
  },
  {
   "cell_type": "code",
   "execution_count": null,
   "metadata": {},
   "outputs": [],
   "source": [
    "!python src/create_submit_pkg.py"
   ]
  },
  {
   "cell_type": "code",
   "execution_count": null,
   "metadata": {},
   "outputs": [],
   "source": []
  }
 ],
 "metadata": {
  "kernelspec": {
   "display_name": "Python 3",
   "language": "python",
   "name": "python3"
  },
  "language_info": {
   "codemirror_mode": {
    "name": "ipython",
    "version": 3
   },
   "file_extension": ".py",
   "mimetype": "text/x-python",
   "name": "python",
   "nbconvert_exporter": "python",
   "pygments_lexer": "ipython3",
   "version": "3.7.6"
  },
  "widgets": {
   "application/vnd.jupyter.widget-state+json": {
    "state": {},
    "version_major": 2,
    "version_minor": 0
   }
  }
 },
 "nbformat": 4,
 "nbformat_minor": 5
}
