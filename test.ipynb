{
 "cells": [
  {
   "cell_type": "code",
   "execution_count": 13,
   "metadata": {
    "editable": true
   },
   "outputs": [],
   "source": [
    "import configparser\n",
    "from datetime import datetime\n",
    "import os\n",
    "from pyspark.sql import SparkSession\n",
    "from pyspark.sql.functions import udf, col\n",
    "from pyspark.sql.functions import year, month, dayofmonth, hour, weekofyear, date_format,dayofweek,monotonically_increasing_id"
   ]
  },
  {
   "cell_type": "code",
   "execution_count": 14,
   "metadata": {
    "editable": true
   },
   "outputs": [],
   "source": [
    "config = configparser.ConfigParser()\n",
    "config.read('dl.cfg')\n",
    "os.environ['AWS_ACCESS_KEY_ID']=config['AWS']['AWS_ACCESS_KEY_ID']\n",
    "os.environ['AWS_SECRET_ACCESS_KEY']=config['AWS']['AWS_SECRET_ACCESS_KEY']"
   ]
  },
  {
   "cell_type": "code",
   "execution_count": 15,
   "metadata": {
    "editable": true
   },
   "outputs": [],
   "source": [
    "def create_spark_session():\n",
    "    spark = SparkSession \\\n",
    "        .builder \\\n",
    "        .config(\"spark.jars.packages\", \"org.apache.hadoop:hadoop-aws:2.7.0\") \\\n",
    "        .getOrCreate()\n",
    "    return spark\n"
   ]
  },
  {
   "cell_type": "code",
   "execution_count": 16,
   "metadata": {
    "editable": true
   },
   "outputs": [],
   "source": [
    "def process_song_data(spark, input_data, output_data):\n",
    "    # get filepath to song data file\n",
    "    song_data =  os.path.join(input_data, 'song_data/A/A/B/*.json')\n",
    "   \n",
    "    # read song data file\n",
    "    df = spark.read.json(song_data)\n",
    "\n",
    "    # extract columns to create songs table\n",
    "    songs_table = df.select('song_id', 'title', 'artist_id','year', 'duration').distinct()\n",
    "    \n",
    "    \n",
    "    # write songs table to parquet files partitioned by year and artist\n",
    "    songs_table.write.mode('overwrite').partitionBy(\"year\", \"artist_id\").parquet(output_data+'songs_table/')\n",
    "\n",
    "    # extract columns to create artists table\n",
    "    artists_table = df.select('artist_id', col('artist_name').alias('name'), col('artist_location').alias('location'),col('artist_latitude').alias('latitude'),                           col('artist_longitude').alias('longitude')).distinct()\n",
    "    \n",
    "    # write artists table to parquet files\n",
    "    artists_table.write.mode('overwrite').parquet(output_data+'artists_table/')\n",
    "   \n"
   ]
  },
  {
   "cell_type": "code",
   "execution_count": 19,
   "metadata": {
    "editable": true
   },
   "outputs": [],
   "source": [
    "def process_log_data(spark, input_data, output_data):\n",
    "    # get filepath to log data file\n",
    "    log_data = os.path.join(input_data, 'log_data/2018/11/*.json')\n",
    "\n",
    "    # read log data file\n",
    "    df = spark.read.json(log_data)\n",
    "    \n",
    "    # filter by actions for song plays\n",
    "    df = df.filter(df.page == 'NextSong')\n",
    "\n",
    "    # extract columns for users table    \n",
    "    artists_table = df.select(col('userId').alias('user_id'),col('firstName').alias('first_name'), col('lastName').alias('last_name'), 'gender', 'level').distinct()\n",
    "    \n",
    "    \n",
    "    # write users table to parquet files\n",
    "    artists_table.write.mode('overwrite').parquet(output_data+'users_table/')\n",
    "\n",
    "    # create timestamp column from original timestamp column\n",
    "    get_timestamp = udf(lambda x: str(datetime.fromtimestamp(int(x))))\n",
    "    df = df.withColumn(\"timestamp\", get_timestamp(df.ts))\n",
    "    \n",
    "    # create datetime column from original timestamp column\n",
    "    get_datetime = udf(lambda x: str(datetime.fromtimestamp(int(x) / 1000)))\n",
    "    df = df.withColumn('datetime', get_datetime(df.ts))\n",
    "    \n",
    "    # extract columns to create time table\n",
    "    time_table = df.select('datetime') \\\n",
    "    .withColumn('start_time', df.datetime) \\\n",
    "    .withColumn('hour', hour('datetime')) \\\n",
    "    .withColumn('day', dayofmonth('datetime')) \\\n",
    "    .withColumn('week', weekofyear('datetime')) \\\n",
    "    .withColumn('month', month('datetime')) \\\n",
    "    .withColumn('year', year('datetime')) \\\n",
    "    .withColumn('weekday', dayofweek('datetime')) \\\n",
    "    .dropDuplicates()\n",
    "    \n",
    "    # write time table to parquet files partitioned by year and month\n",
    "    time_table.write.mode('overwrite').partitionBy('year', 'month').parquet(output_data + 'time/')\n",
    "\n",
    "    # read in song data to use for songplays table\n",
    "    song_df =spark.read.parquet(output_data + 'songs_table/')\n",
    "\n",
    "    # extract columns from joined song and log datasets to create songplays table \n",
    "    songplays_table = df.join(song_df, (song_df.title == df.song) & (song_df.duration == df.length))\n",
    "    songplays_table = songplays_table.withColumn('songplay_id', monotonically_increasing_id())\n",
    "    songplays_table = songplays_table.select('songplay_id', col('datetime').alias('start_time'),col('userId').alias('user_id'), 'level','song_id', \n",
    "                                             'artist_id',col('sessionId').alias('session_id'),'location',col('userAgent').alias('user_agent'))\n",
    "\n",
    "    # write songplays table to parquet files partitioned by year and month\n",
    "    songplays_table.withColumn('year',year('start_time')).withColumn('month',month('start_time')).write.mode('overwrite').partitionBy('year','month').parquet(output_data+'songplay/')\n",
    "\n"
   ]
  },
  {
   "cell_type": "code",
   "execution_count": 20,
   "metadata": {
    "editable": true
   },
   "outputs": [],
   "source": [
    "def main():\n",
    "    spark = create_spark_session()\n",
    "    input_data = \"s3a://udacity-dend/\"\n",
    "    output_data = \"./Results/\"\n",
    "    \n",
    "    process_song_data(spark, input_data, output_data)    \n",
    "    process_log_data(spark, input_data, output_data)\n",
    "\n",
    "\n",
    "if __name__ == \"__main__\":\n",
    "    main()"
   ]
  },
  {
   "cell_type": "code",
   "execution_count": null,
   "metadata": {
    "editable": true
   },
   "outputs": [],
   "source": []
  }
 ],
 "metadata": {
  "kernelspec": {
   "display_name": "Python 3",
   "language": "python",
   "name": "python3"
  },
  "language_info": {
   "codemirror_mode": {
    "name": "ipython",
    "version": 3
   },
   "file_extension": ".py",
   "mimetype": "text/x-python",
   "name": "python",
   "nbconvert_exporter": "python",
   "pygments_lexer": "ipython3",
   "version": "3.6.3"
  }
 },
 "nbformat": 4,
 "nbformat_minor": 4
}
